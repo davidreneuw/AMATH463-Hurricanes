{
 "cells": [
  {
   "cell_type": "markdown",
   "id": "8b6acf59",
   "metadata": {},
   "source": [
    "# AMATH 463: Fluid Dynamics\n",
    "### Hurricanes\n",
    "### David René & Petra M. Duff\n",
    "\n",
    "As part of our AMATH463: Fluid Dynamics course, we were required to work on a term project related to fluid dynamics. As we are both mathematical physics student with an interest in mathematics of geophysical fluids, we decided to attempt a numerical/computational analysis of the creation of hurricanes"
   ]
  },
  {
   "cell_type": "code",
   "execution_count": 2,
   "id": "5f39e8d8",
   "metadata": {},
   "outputs": [],
   "source": [
    "import numpy as np\n",
    "import pandas as pd\n",
    "import matplotlib.pyplot as plt\n",
    "from sympy import E, Eq, Function, pde_separate_add, pde_separate_mul, Derivative as D\n",
    "from sympy.abc import x, y, z, y"
   ]
  },
  {
   "cell_type": "code",
   "execution_count": null,
   "id": "488d6edc",
   "metadata": {},
   "outputs": [],
   "source": []
  }
 ],
 "metadata": {
  "kernelspec": {
   "display_name": "Python 3 (ipykernel)",
   "language": "python",
   "name": "python3"
  },
  "language_info": {
   "codemirror_mode": {
    "name": "ipython",
    "version": 3
   },
   "file_extension": ".py",
   "mimetype": "text/x-python",
   "name": "python",
   "nbconvert_exporter": "python",
   "pygments_lexer": "ipython3",
   "version": "3.10.6"
  },
  "vscode": {
   "interpreter": {
    "hash": "1b9d203887c16baa97e33be11383493c3f49cb06638303cb4cfd1bf7b8fa90cc"
   }
  }
 },
 "nbformat": 4,
 "nbformat_minor": 5
}
